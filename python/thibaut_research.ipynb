{
 "cells": [
  {
   "cell_type": "code",
   "execution_count": 1,
   "metadata": {
    "collapsed": true
   },
   "outputs": [],
   "source": [
    "from IPython.core.display import display\n",
    "from __future__ import division\n",
    "import numpy as np\n",
    "import pandas as pd\n",
    "from datautils.data_utils import get_more_data, merge_trades_and_quotes\n",
    "import datautils.features as features\n",
    "\n",
    "import statsmodels.api as sm\n",
    "from sklearn import cross_validation, svm"
   ]
  },
  {
   "cell_type": "code",
   "execution_count": 2,
   "metadata": {
    "collapsed": false
   },
   "outputs": [
    {
     "data": {
      "text/html": [
       "<div>\n",
       "<table border=\"1\" class=\"dataframe\">\n",
       "  <thead>\n",
       "    <tr style=\"text-align: right;\">\n",
       "      <th></th>\n",
       "      <th>SYM</th>\n",
       "      <th>DATE_TIME</th>\n",
       "      <th>ASK_PRICE</th>\n",
       "      <th>ASK_SIZE</th>\n",
       "      <th>BID_PRICE</th>\n",
       "      <th>BID_SIZE</th>\n",
       "      <th>SIZE</th>\n",
       "      <th>PRICE</th>\n",
       "    </tr>\n",
       "  </thead>\n",
       "  <tbody>\n",
       "    <tr>\n",
       "      <th>0</th>\n",
       "      <td>XLE</td>\n",
       "      <td>2012-01-05 09:30:00.000</td>\n",
       "      <td>70.8065</td>\n",
       "      <td>15</td>\n",
       "      <td>70.76</td>\n",
       "      <td>5</td>\n",
       "      <td>NaN</td>\n",
       "      <td>NaN</td>\n",
       "    </tr>\n",
       "    <tr>\n",
       "      <th>1</th>\n",
       "      <td>XLE</td>\n",
       "      <td>2012-01-05 09:30:00.259</td>\n",
       "      <td>70.8065</td>\n",
       "      <td>15</td>\n",
       "      <td>70.76</td>\n",
       "      <td>5</td>\n",
       "      <td>130</td>\n",
       "      <td>70.74</td>\n",
       "    </tr>\n",
       "    <tr>\n",
       "      <th>2</th>\n",
       "      <td>XLE</td>\n",
       "      <td>2012-01-05 09:30:00.261</td>\n",
       "      <td>70.8065</td>\n",
       "      <td>15</td>\n",
       "      <td>70.76</td>\n",
       "      <td>5</td>\n",
       "      <td>130</td>\n",
       "      <td>70.74</td>\n",
       "    </tr>\n",
       "    <tr>\n",
       "      <th>3</th>\n",
       "      <td>XLE</td>\n",
       "      <td>2012-01-05 09:30:00.267</td>\n",
       "      <td>70.8065</td>\n",
       "      <td>15</td>\n",
       "      <td>70.76</td>\n",
       "      <td>5</td>\n",
       "      <td>100</td>\n",
       "      <td>70.81</td>\n",
       "    </tr>\n",
       "    <tr>\n",
       "      <th>4</th>\n",
       "      <td>XLE</td>\n",
       "      <td>2012-01-05 09:30:00.271</td>\n",
       "      <td>70.8065</td>\n",
       "      <td>15</td>\n",
       "      <td>70.76</td>\n",
       "      <td>5</td>\n",
       "      <td>100</td>\n",
       "      <td>70.87</td>\n",
       "    </tr>\n",
       "  </tbody>\n",
       "</table>\n",
       "</div>"
      ],
      "text/plain": [
       "   SYM               DATE_TIME  ASK_PRICE  ASK_SIZE  BID_PRICE  BID_SIZE  \\\n",
       "0  XLE 2012-01-05 09:30:00.000    70.8065        15      70.76         5   \n",
       "1  XLE 2012-01-05 09:30:00.259    70.8065        15      70.76         5   \n",
       "2  XLE 2012-01-05 09:30:00.261    70.8065        15      70.76         5   \n",
       "3  XLE 2012-01-05 09:30:00.267    70.8065        15      70.76         5   \n",
       "4  XLE 2012-01-05 09:30:00.271    70.8065        15      70.76         5   \n",
       "\n",
       "   SIZE  PRICE  \n",
       "0   NaN    NaN  \n",
       "1   130  70.74  \n",
       "2   130  70.74  \n",
       "3   100  70.81  \n",
       "4   100  70.87  "
      ]
     },
     "metadata": {},
     "output_type": "display_data"
    }
   ],
   "source": [
    "data = merge_trades_and_quotes(get_more_data('XLE', 2012, 1, 5, days=10, bar_width='second'))\n",
    "display(data[0].head(5))"
   ]
  },
  {
   "cell_type": "markdown",
   "metadata": {},
   "source": [
    "## Add Features"
   ]
  },
  {
   "cell_type": "code",
   "execution_count": 3,
   "metadata": {
    "collapsed": false
   },
   "outputs": [],
   "source": [
    "hls = [10, 40, 100]\n",
    "vpin_window = pd.Timedelta(seconds=10)\n",
    "\n",
    "for day in data:\n",
    "    features.label_data(day, label_hls=hls)\n",
    "    features.add_ema(day, halflives=hls)\n",
    "    features.add_dema(day, halflives=hls)\n",
    "    features.add_log_return_ema(day, halflives=hls)\n",
    "    features.add_price_diff(day)\n",
    "    features.add_size_diff(day)\n",
    "    features.add_vpin_time(day, vpin_window)\n",
    "    \n",
    "day = data[0]\n",
    "day = day.fillna(0)"
   ]
  },
  {
   "cell_type": "code",
   "execution_count": 4,
   "metadata": {
    "collapsed": false
   },
   "outputs": [
    {
     "ename": "AttributeError",
     "evalue": "'module' object has no attribute 'scale'",
     "output_type": "error",
     "traceback": [
      "\u001b[0;31m---------------------------------------------------------------------------\u001b[0m",
      "\u001b[0;31mAttributeError\u001b[0m                            Traceback (most recent call last)",
      "\u001b[0;32m<ipython-input-4-dfc69ba600fc>\u001b[0m in \u001b[0;36m<module>\u001b[0;34m()\u001b[0m\n\u001b[1;32m      3\u001b[0m                  \u001b[0;34m'log_returns_std_10-'\u001b[0m\u001b[0;34m,\u001b[0m \u001b[0;34m'log_returns_std_40-'\u001b[0m\u001b[0;34m,\u001b[0m \u001b[0;34m'size_diff'\u001b[0m\u001b[0;34m,\u001b[0m\u001b[0;34m\u001b[0m\u001b[0m\n\u001b[1;32m      4\u001b[0m                  'price_diff']\n\u001b[0;32m----> 5\u001b[0;31m \u001b[0mfeatures\u001b[0m\u001b[0;34m.\u001b[0m\u001b[0mstandardize_features\u001b[0m\u001b[0;34m(\u001b[0m\u001b[0mday\u001b[0m\u001b[0;34m,\u001b[0m \u001b[0mfeature_names\u001b[0m\u001b[0;34m)\u001b[0m\u001b[0;34m\u001b[0m\u001b[0m\n\u001b[0m\u001b[1;32m      6\u001b[0m \u001b[0mdisplay\u001b[0m\u001b[0;34m(\u001b[0m\u001b[0mlist\u001b[0m\u001b[0;34m(\u001b[0m\u001b[0mday\u001b[0m\u001b[0;34m)\u001b[0m\u001b[0;34m)\u001b[0m\u001b[0;34m\u001b[0m\u001b[0m\n\u001b[1;32m      7\u001b[0m \u001b[0mdisplay\u001b[0m\u001b[0;34m(\u001b[0m\u001b[0mday\u001b[0m\u001b[0;34m.\u001b[0m\u001b[0mtail\u001b[0m\u001b[0;34m(\u001b[0m\u001b[0;36m10\u001b[0m\u001b[0;34m)\u001b[0m\u001b[0;34m)\u001b[0m\u001b[0;34m\u001b[0m\u001b[0m\n",
      "\u001b[0;32m/Users/thibautxiong/Documents/Development/CS598PS-Project/python/datautils/features.py\u001b[0m in \u001b[0;36mstandardize_features\u001b[0;34m(data, feature_names)\u001b[0m\n\u001b[1;32m     14\u001b[0m \u001b[0;32mdef\u001b[0m \u001b[0mstandardize_features\u001b[0m\u001b[0;34m(\u001b[0m\u001b[0mdata\u001b[0m\u001b[0;34m,\u001b[0m \u001b[0mfeature_names\u001b[0m\u001b[0;34m)\u001b[0m\u001b[0;34m:\u001b[0m\u001b[0;34m\u001b[0m\u001b[0m\n\u001b[1;32m     15\u001b[0m     \u001b[0;32mfor\u001b[0m \u001b[0mfeature\u001b[0m \u001b[0;32min\u001b[0m \u001b[0mfeature_names\u001b[0m\u001b[0;34m:\u001b[0m\u001b[0;34m\u001b[0m\u001b[0m\n\u001b[0;32m---> 16\u001b[0;31m         \u001b[0msk\u001b[0m\u001b[0;34m.\u001b[0m\u001b[0mscale\u001b[0m\u001b[0;34m(\u001b[0m\u001b[0mdata\u001b[0m\u001b[0;34m[\u001b[0m\u001b[0mfeature\u001b[0m\u001b[0;34m]\u001b[0m\u001b[0;34m)\u001b[0m\u001b[0;34m\u001b[0m\u001b[0m\n\u001b[0m\u001b[1;32m     17\u001b[0m     \u001b[0;31m# data[feature_names] = (data[feature_names] - data[feature_names].mean()) / data[feature_names].std()\u001b[0m\u001b[0;34m\u001b[0m\u001b[0;34m\u001b[0m\u001b[0m\n\u001b[1;32m     18\u001b[0m \u001b[0;34m\u001b[0m\u001b[0m\n",
      "\u001b[0;31mAttributeError\u001b[0m: 'module' object has no attribute 'scale'"
     ]
    }
   ],
   "source": [
    "feature_names = ['VPIN_TIME', 'dEMA_10', 'dEMA_40', 'dEMA_100',\n",
    "                 'log_returns_10-', 'log_returns_40-', 'log_returns_100-',\n",
    "                 'log_returns_std_10-', 'log_returns_std_40-', 'size_diff',\n",
    "                 'price_diff']\n",
    "features.standardize_features(day, feature_names)\n",
    "display(list(day))\n",
    "display(day.tail(10))"
   ]
  },
  {
   "cell_type": "code",
   "execution_count": null,
   "metadata": {
    "collapsed": false
   },
   "outputs": [],
   "source": [
    "for feature in feature_names:\n",
    "    print feature, \"min\", min(day[feature]), \"max\", max(day[feature])"
   ]
  },
  {
   "cell_type": "code",
   "execution_count": null,
   "metadata": {
    "collapsed": true
   },
   "outputs": [],
   "source": []
  }
 ],
 "metadata": {
  "kernelspec": {
   "display_name": "Python 2",
   "language": "python",
   "name": "python2"
  },
  "language_info": {
   "codemirror_mode": {
    "name": "ipython",
    "version": 2
   },
   "file_extension": ".py",
   "mimetype": "text/x-python",
   "name": "python",
   "nbconvert_exporter": "python",
   "pygments_lexer": "ipython2",
   "version": "2.7.9"
  }
 },
 "nbformat": 4,
 "nbformat_minor": 0
}
