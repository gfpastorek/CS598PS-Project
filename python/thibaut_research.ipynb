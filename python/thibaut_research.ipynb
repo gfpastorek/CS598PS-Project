{
 "cells": [
  {
   "cell_type": "code",
   "execution_count": 1,
   "metadata": {
    "collapsed": true
   },
   "outputs": [],
   "source": [
    "from IPython.core.display import display\n",
    "from __future__ import division\n",
    "import numpy as np\n",
    "import pandas as pd\n",
    "from datautils.data_utils import get_more_data, merge_trades_and_quotes\n",
    "import datautils.features as features\n",
    "\n",
    "import statsmodels.api as sm\n",
    "from sklearn import cross_validation, svm, preprocessing"
   ]
  },
  {
   "cell_type": "code",
   "execution_count": 5,
   "metadata": {
    "collapsed": false
   },
   "outputs": [
    {
     "data": {
      "text/html": [
       "<div>\n",
       "<table border=\"1\" class=\"dataframe\">\n",
       "  <thead>\n",
       "    <tr style=\"text-align: right;\">\n",
       "      <th></th>\n",
       "      <th>SYM</th>\n",
       "      <th>DATE_TIME</th>\n",
       "      <th>ASK_PRICE</th>\n",
       "      <th>ASK_SIZE</th>\n",
       "      <th>BID_PRICE</th>\n",
       "      <th>BID_SIZE</th>\n",
       "      <th>SIZE</th>\n",
       "      <th>PRICE</th>\n",
       "    </tr>\n",
       "  </thead>\n",
       "  <tbody>\n",
       "    <tr>\n",
       "      <th>0</th>\n",
       "      <td>XLE</td>\n",
       "      <td>2012-01-05 09:30:00.000</td>\n",
       "      <td>70.8065</td>\n",
       "      <td>15</td>\n",
       "      <td>70.76</td>\n",
       "      <td>5</td>\n",
       "      <td>NaN</td>\n",
       "      <td>NaN</td>\n",
       "    </tr>\n",
       "    <tr>\n",
       "      <th>1</th>\n",
       "      <td>XLE</td>\n",
       "      <td>2012-01-05 09:30:00.259</td>\n",
       "      <td>70.8065</td>\n",
       "      <td>15</td>\n",
       "      <td>70.76</td>\n",
       "      <td>5</td>\n",
       "      <td>130</td>\n",
       "      <td>70.74</td>\n",
       "    </tr>\n",
       "    <tr>\n",
       "      <th>2</th>\n",
       "      <td>XLE</td>\n",
       "      <td>2012-01-05 09:30:00.261</td>\n",
       "      <td>70.8065</td>\n",
       "      <td>15</td>\n",
       "      <td>70.76</td>\n",
       "      <td>5</td>\n",
       "      <td>130</td>\n",
       "      <td>70.74</td>\n",
       "    </tr>\n",
       "    <tr>\n",
       "      <th>3</th>\n",
       "      <td>XLE</td>\n",
       "      <td>2012-01-05 09:30:00.267</td>\n",
       "      <td>70.8065</td>\n",
       "      <td>15</td>\n",
       "      <td>70.76</td>\n",
       "      <td>5</td>\n",
       "      <td>100</td>\n",
       "      <td>70.81</td>\n",
       "    </tr>\n",
       "    <tr>\n",
       "      <th>4</th>\n",
       "      <td>XLE</td>\n",
       "      <td>2012-01-05 09:30:00.271</td>\n",
       "      <td>70.8065</td>\n",
       "      <td>15</td>\n",
       "      <td>70.76</td>\n",
       "      <td>5</td>\n",
       "      <td>100</td>\n",
       "      <td>70.87</td>\n",
       "    </tr>\n",
       "  </tbody>\n",
       "</table>\n",
       "</div>"
      ],
      "text/plain": [
       "   SYM               DATE_TIME  ASK_PRICE  ASK_SIZE  BID_PRICE  BID_SIZE  \\\n",
       "0  XLE 2012-01-05 09:30:00.000    70.8065        15      70.76         5   \n",
       "1  XLE 2012-01-05 09:30:00.259    70.8065        15      70.76         5   \n",
       "2  XLE 2012-01-05 09:30:00.261    70.8065        15      70.76         5   \n",
       "3  XLE 2012-01-05 09:30:00.267    70.8065        15      70.76         5   \n",
       "4  XLE 2012-01-05 09:30:00.271    70.8065        15      70.76         5   \n",
       "\n",
       "   SIZE  PRICE  \n",
       "0   NaN    NaN  \n",
       "1   130  70.74  \n",
       "2   130  70.74  \n",
       "3   100  70.81  \n",
       "4   100  70.87  "
      ]
     },
     "metadata": {},
     "output_type": "display_data"
    }
   ],
   "source": [
    "data = merge_trades_and_quotes(get_more_data('XLE', 2012, 1, 5, days=10, bar_width='None'))\n",
    "display(data[0].head(5))"
   ]
  },
  {
   "cell_type": "markdown",
   "metadata": {},
   "source": [
    "## Add Features"
   ]
  },
  {
   "cell_type": "code",
   "execution_count": 6,
   "metadata": {
    "collapsed": false
   },
   "outputs": [],
   "source": [
    "hls = [10, 40, 100]\n",
    "vpin_window = pd.Timedelta(seconds=10)\n",
    "feature_names = []\n",
    "for day in data:\n",
    "    features.add_future_log_returns(day, label_hls=hls)\n",
    "    feature_names.extend(features.add_ema(day, halflives=hls))\n",
    "    feature_names.extend(features.add_dema(day, halflives=hls))\n",
    "    feature_names.extend(features.add_log_return_ema(day, halflives=hls))\n",
    "    feature_names.extend(features.add_price_diff(day))\n",
    "    feature_names.extend(features.add_size_diff(day))\n",
    "    feature_names.extend(features.add_vpin_time(day, vpin_window))\n",
    "    \n",
    "day = data[0]\n",
    "day = day.fillna(0)\n",
    "display(day)"
   ]
  },
  {
   "cell_type": "code",
   "execution_count": 10,
   "metadata": {
    "collapsed": false
   },
   "outputs": [
    {
     "data": {
      "text/plain": [
       "['EMA_10',\n",
       " 'EMA_40',\n",
       " 'EMA_100',\n",
       " 'dEMA_10',\n",
       " 'dEMA_40',\n",
       " 'dEMA_100',\n",
       " 'log_returns_10-',\n",
       " 'log_returns_40-',\n",
       " 'log_returns_100-',\n",
       " 'log_returns_std_10-',\n",
       " 'log_returns_std_40-',\n",
       " 'log_returns_std_100-',\n",
       " 'price_diff',\n",
       " 'size_diff',\n",
       " 'VPIN_TIME',\n",
       " 'EMA_10',\n",
       " 'EMA_40',\n",
       " 'EMA_100',\n",
       " 'dEMA_10',\n",
       " 'dEMA_40',\n",
       " 'dEMA_100',\n",
       " 'log_returns_10-',\n",
       " 'log_returns_40-',\n",
       " 'log_returns_100-',\n",
       " 'log_returns_std_10-',\n",
       " 'log_returns_std_40-',\n",
       " 'log_returns_std_100-',\n",
       " 'price_diff',\n",
       " 'size_diff',\n",
       " 'VPIN_TIME',\n",
       " 'EMA_10',\n",
       " 'EMA_40',\n",
       " 'EMA_100',\n",
       " 'dEMA_10',\n",
       " 'dEMA_40',\n",
       " 'dEMA_100',\n",
       " 'log_returns_10-',\n",
       " 'log_returns_40-',\n",
       " 'log_returns_100-',\n",
       " 'log_returns_std_10-',\n",
       " 'log_returns_std_40-',\n",
       " 'log_returns_std_100-',\n",
       " 'price_diff',\n",
       " 'size_diff',\n",
       " 'VPIN_TIME']"
      ]
     },
     "metadata": {},
     "output_type": "display_data"
    }
   ],
   "source": [
    "features.standardize_features(day, feature_names)\n",
    "display(feature_names)"
   ]
  },
  {
   "cell_type": "code",
   "execution_count": 9,
   "metadata": {
    "collapsed": false
   },
   "outputs": [
    {
     "name": "stdout",
     "output_type": "stream",
     "text": [
      "EMA_10 min 70.0115949179 max 70.9081294146\n",
      "EMA_40 min 70.0282165729 max 70.9017293638\n",
      "EMA_100 min 70.0451092993 max 70.8923651018\n",
      "dEMA_10 min -0.00493683294108 max 0.00378741252347\n",
      "dEMA_40 min -0.00136081668663 max 0.00145226141295\n",
      "dEMA_100 min -0.000750181072149 max 0.000815743842153\n",
      "log_returns_10- min -7.03873382999e-05 max 5.39212274303e-05\n",
      "log_returns_40- min -1.92720940793e-05 max 2.05530466644e-05\n",
      "log_returns_100- min -1.06296828324e-05 max 1.16006213169e-05\n",
      "log_returns_std_10- min 0.0 max 0.000223224845301\n",
      "log_returns_std_40- min 0.0 max 0.000123947760689\n",
      "log_returns_std_100- min 0.0 max 0.000102077284405\n",
      "price_diff min 0.00999999999971 max 0.0465\n",
      "size_diff min -248.0 max 160.0\n",
      "VPIN_TIME min -1.0 max 1.0\n",
      "EMA_10 min 70.0115949179 max 70.9081294146\n",
      "EMA_40 min 70.0282165729 max 70.9017293638\n",
      "EMA_100 min 70.0451092993 max 70.8923651018\n",
      "dEMA_10 min -0.00493683294108 max 0.00378741252347\n",
      "dEMA_40 min -0.00136081668663 max 0.00145226141295\n",
      "dEMA_100 min -0.000750181072149 max 0.000815743842153\n",
      "log_returns_10- min -7.03873382999e-05 max 5.39212274303e-05\n",
      "log_returns_40- min -1.92720940793e-05 max 2.05530466644e-05\n",
      "log_returns_100- min -1.06296828324e-05 max 1.16006213169e-05\n",
      "log_returns_std_10- min 0.0 max 0.000223224845301\n",
      "log_returns_std_40- min 0.0 max 0.000123947760689\n",
      "log_returns_std_100- min 0.0 max 0.000102077284405\n",
      "price_diff min 0.00999999999971 max 0.0465\n",
      "size_diff min -248.0 max 160.0\n",
      "VPIN_TIME min -1.0 max 1.0\n",
      "EMA_10 min 70.0115949179 max 70.9081294146\n",
      "EMA_40 min 70.0282165729 max 70.9017293638\n",
      "EMA_100 min 70.0451092993 max 70.8923651018\n",
      "dEMA_10 min -0.00493683294108 max 0.00378741252347\n",
      "dEMA_40 min -0.00136081668663 max 0.00145226141295\n",
      "dEMA_100 min -0.000750181072149 max 0.000815743842153\n",
      "log_returns_10- min -7.03873382999e-05 max 5.39212274303e-05\n",
      "log_returns_40- min -1.92720940793e-05 max 2.05530466644e-05\n",
      "log_returns_100- min -1.06296828324e-05 max 1.16006213169e-05\n",
      "log_returns_std_10- min 0.0 max 0.000223224845301\n",
      "log_returns_std_40- min 0.0 max 0.000123947760689\n",
      "log_returns_std_100- min 0.0 max 0.000102077284405\n",
      "price_diff min 0.00999999999971 max 0.0465\n",
      "size_diff min -248.0 max 160.0\n",
      "VPIN_TIME min -1.0 max 1.0\n"
     ]
    }
   ],
   "source": [
    "for feature in feature_names:\n",
    "    print feature, \"min\", min(day[feature]), \"max\", max(day[feature])"
   ]
  },
  {
   "cell_type": "code",
   "execution_count": null,
   "metadata": {
    "collapsed": true
   },
   "outputs": [],
   "source": []
  }
 ],
 "metadata": {
  "kernelspec": {
   "display_name": "Python 2",
   "language": "python",
   "name": "python2"
  },
  "language_info": {
   "codemirror_mode": {
    "name": "ipython",
    "version": 2
   },
   "file_extension": ".py",
   "mimetype": "text/x-python",
   "name": "python",
   "nbconvert_exporter": "python",
   "pygments_lexer": "ipython2",
   "version": "2.7.9"
  }
 },
 "nbformat": 4,
 "nbformat_minor": 0
}
